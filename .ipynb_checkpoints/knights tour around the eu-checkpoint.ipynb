{
 "cells": [
  {
   "cell_type": "code",
   "execution_count": 1,
   "metadata": {},
   "outputs": [],
   "source": [
    "#PART 1: board mockup, chess piece placement\n",
    "import random\n",
    "def eightQueens(coords, draw = True):\n",
    "    Queenlocations =  coords\n",
    "    def draw_board():\n",
    "        levels = 8\n",
    "        for x in range(levels, 0, -1):\n",
    "            base = '\\n{}  '.format(x)\n",
    "            for y in range(1, levels+1):\n",
    "                if (y, x) in Queenlocations:\n",
    "                    base += queen\n",
    "                else: \n",
    "                    base += empty \n",
    "                \n",
    "            if draw == True: print(base)\n",
    "        if draw == True: print('    A   B   C   D   E   F   G   H')   \n",
    "    queen = '\\u26AB  '\n",
    "    empty = '\\u26AA  '\n",
    "    #empty = ' \\u20E0   '\n",
    "    draw_board()"
   ]
  },
  {
   "cell_type": "code",
   "execution_count": 3,
   "metadata": {
    "scrolled": false
   },
   "outputs": [
    {
     "name": "stdout",
     "output_type": "stream",
     "text": [
      "\n",
      "8  ⚪  ⚪  ⚪  ⚪  ⚪  ⚪  ⚪  ⚫  \n",
      "\n",
      "7  ⚪  ⚪  ⚪  ⚪  ⚪  ⚪  ⚪  ⚪  \n",
      "\n",
      "6  ⚪  ⚪  ⚪  ⚪  ⚪  ⚪  ⚪  ⚪  \n",
      "\n",
      "5  ⚪  ⚪  ⚪  ⚪  ⚪  ⚪  ⚪  ⚪  \n",
      "\n",
      "4  ⚪  ⚪  ⚪  ⚫  ⚪  ⚪  ⚪  ⚪  \n",
      "\n",
      "3  ⚪  ⚪  ⚪  ⚪  ⚪  ⚪  ⚪  ⚪  \n",
      "\n",
      "2  ⚪  ⚪  ⚪  ⚪  ⚪  ⚪  ⚪  ⚪  \n",
      "\n",
      "1  ⚪  ⚪  ⚪  ⚪  ⚪  ⚪  ⚪  ⚪  \n",
      "    A   B   C   D   E   F   G   H\n"
     ]
    }
   ],
   "source": [
    "cords = [(4,4), (8,8)]\n",
    "eightQueens(cords)"
   ]
  },
  {
   "cell_type": "code",
   "execution_count": null,
   "metadata": {},
   "outputs": [],
   "source": [
    "#PART 2: design a fuction that given a coordinate, return all coordinates where the knight can move next. "
   ]
  },
  {
   "cell_type": "code",
   "execution_count": null,
   "metadata": {},
   "outputs": [],
   "source": [
    "def knight_possibilities(coord):\n",
    "    \"\"\"Given a coordinate, return a list of coordin\"\"\""
   ]
  }
 ],
 "metadata": {
  "kernelspec": {
   "display_name": "Python 3",
   "language": "python",
   "name": "python3"
  },
  "language_info": {
   "codemirror_mode": {
    "name": "ipython",
    "version": 3
   },
   "file_extension": ".py",
   "mimetype": "text/x-python",
   "name": "python",
   "nbconvert_exporter": "python",
   "pygments_lexer": "ipython3",
   "version": "3.7.1"
  }
 },
 "nbformat": 4,
 "nbformat_minor": 2
}
