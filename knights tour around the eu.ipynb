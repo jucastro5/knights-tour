{
 "cells": [
  {
   "cell_type": "code",
   "execution_count": 55,
   "metadata": {},
   "outputs": [],
   "source": [
    "#PART 1: board mockup, chess piece placement\n",
    "import random\n",
    "def eightQueens(coords, draw = True):\n",
    "    Queenlocations =  coords\n",
    "    def draw_board():\n",
    "        levels = 8\n",
    "        for x in range(levels, 0, -1):\n",
    "            base = '\\n{}  '.format(x)\n",
    "            for y in range(1, levels+1):\n",
    "                if (y, x) in Queenlocations:\n",
    "                    base += queen\n",
    "                elif (y, x) in valid_locations:\n",
    "                    base += valid\n",
    "                else: \n",
    "                    base += empty \n",
    "                \n",
    "            if draw == True: print(base)\n",
    "        if draw == True: print('    A   B   C   D   E   F   G   H')   \n",
    "    def knight_possibilities(coord):\n",
    "        \"\"\"Given the location of a knight, return a list of coordinates where the knight can move.\"\"\"\n",
    "        output = []\n",
    "        x = coord[0]\n",
    "        y = coord[1]\n",
    "        output.append((x + 2, y + 1))\n",
    "        output.append((x - 2, y + 1))\n",
    "        output.append((x + 2, y - 1))\n",
    "        output.append((x - 2, y - 1))\n",
    "        output.append((x + 1, y + 2))\n",
    "        output.append((x - 1, y + 2))\n",
    "        output.append((x + 1, y - 2))\n",
    "        output.append((x - 1, y - 2))\n",
    "        return sorted(output)\n",
    "    \n",
    "    queen = '\\u26AB  '\n",
    "    empty = '\\u26AA  '\n",
    "    valid = ' \\u20E0   '\n",
    "    valid_locations = knight_possibilities(coords[0])\n",
    "    Queenlocations = coords\n",
    "    updated_valid = []\n",
    "    draw_board()"
   ]
  },
  {
   "cell_type": "code",
   "execution_count": 56,
   "metadata": {
    "scrolled": false
   },
   "outputs": [
    {
     "name": "stdout",
     "output_type": "stream",
     "text": [
      "\n",
      "8  ⚪  ⚪  ⚪  ⚪  ⚪  ⚪  ⚪  ⚪  \n",
      "\n",
      "7  ⚪  ⚪  ⚪  ⚪  ⚪  ⚪  ⚪  ⚪  \n",
      "\n",
      "6  ⚪  ⚪  ⚪  ⚪  ⚪  ⚪  ⚪  ⚪  \n",
      "\n",
      "5  ⚪  ⚪  ⚪  ⚪  ⚪  ⚪  ⚪  ⚪  \n",
      "\n",
      "4   ⃠   ⚪   ⃠   ⚪  ⚪  ⚪  ⚪  ⚪  \n",
      "\n",
      "3  ⚪  ⚪  ⚪   ⃠   ⚪  ⚪  ⚪  ⚪  \n",
      "\n",
      "2  ⚪  ⚫  ⚪  ⚪  ⚪  ⚪  ⚪  ⚪  \n",
      "\n",
      "1  ⚪  ⚪  ⚪   ⃠   ⚪  ⚪  ⚪  ⚪  \n",
      "    A   B   C   D   E   F   G   H\n"
     ]
    }
   ],
   "source": [
    "cords = [(2,2)]\n",
    "eightQueens(cords)"
   ]
  },
  {
   "cell_type": "code",
   "execution_count": null,
   "metadata": {},
   "outputs": [],
   "source": [
    "#PART 2: design a fuction that given a coordinate, return all coordinates where the knight can move next. "
   ]
  },
  {
   "cell_type": "code",
   "execution_count": 37,
   "metadata": {},
   "outputs": [],
   "source": [
    "def knight_possibilities(coord):\n",
    "    \"\"\"Given the location of a knight, return a list of coordinates where the knight can move.\"\"\"\n",
    "    output = []\n",
    "    x = coord[0]\n",
    "    y = coord[1]\n",
    "    output.append((x + 2, y + 1))\n",
    "    output.append((x - 2, y + 1))\n",
    "    output.append((x + 2, y - 1))\n",
    "    output.append((x - 2, y - 1))\n",
    "    output.append((x + 1, y + 2))\n",
    "    output.append((x - 1, y + 2))\n",
    "    output.append((x + 1, y - 2))\n",
    "    output.append((x - 1, y - 2))\n",
    "    return sorted(output)"
   ]
  },
  {
   "cell_type": "code",
   "execution_count": 38,
   "metadata": {},
   "outputs": [
    {
     "data": {
      "text/plain": [
       "[(1, 2), (1, 4), (2, 1), (2, 5), (4, 1), (4, 5), (5, 2), (5, 4)]"
      ]
     },
     "execution_count": 38,
     "metadata": {},
     "output_type": "execute_result"
    }
   ],
   "source": [
    "knight_possibilities((3,3))"
   ]
  },
  {
   "cell_type": "code",
   "execution_count": null,
   "metadata": {},
   "outputs": [],
   "source": [
    "# Implement a tester that feeds points, but remembers past points, removing them from knight possibi"
   ]
  }
 ],
 "metadata": {
  "kernelspec": {
   "display_name": "Python 3",
   "language": "python",
   "name": "python3"
  },
  "language_info": {
   "codemirror_mode": {
    "name": "ipython",
    "version": 3
   },
   "file_extension": ".py",
   "mimetype": "text/x-python",
   "name": "python",
   "nbconvert_exporter": "python",
   "pygments_lexer": "ipython3",
   "version": "3.7.1"
  }
 },
 "nbformat": 4,
 "nbformat_minor": 2
}
